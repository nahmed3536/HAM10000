{
 "cells": [
  {
   "cell_type": "markdown",
   "id": "64759f26",
   "metadata": {},
   "source": [
    "This notebook has code for HAM10000. It will be later sorted into individual articles."
   ]
  },
  {
   "cell_type": "markdown",
   "id": "84eb1642",
   "metadata": {},
   "source": [
    "# HAM10000 Source Loading"
   ]
  },
  {
   "cell_type": "markdown",
   "id": "819d2fd4",
   "metadata": {},
   "source": [
    "First, download the data from the [Harvard Dataverse](https://dataverse.harvard.edu/dataset.xhtml?persistentId=doi:10.7910/DVN/DBW86T) - it will ask you confirm the data license. This process might take a while since it is roughly 3GB to download. \n",
    "\n",
    "In this section, we assume the downloaded zip folder name is `HAM10000_data.zip`. This section unzips the files and organizes the data. Additionally, since the images are split into two folders, we merge it into one folder.\n",
    "\n",
    "The file structure for the data assumed for the project is:\n",
    "\n",
    "```\n",
    "HAM10000\n",
    "└───data\n",
    "    ├── README.md\n",
    "    ├── source\n",
    "    │   ├── HAM10000.zip\n",
    "    │   ├── HAM10000_images_part_1.zip\n",
    "    │   ├── HAM10000_images_part_2.zip\n",
    "    │   ├── HAM10000_metadata\n",
    "    │   ├── HAM10000_segmentations_lesion_tschandl.zip\n",
    "    │   ├── ISIC2018_Task3_Test_Images.zip\n",
    "    │   └── ISIC2018_Task3_Test_NatureMedicine_AI_Interaction_Benefit.tab\n",
    "    └── original\n",
    "        ├── HAM10000_images_part_1\n",
    "        │   ├── ISIC_XXXXXXX.jpg\n",
    "        │   └── ...\n",
    "        ├── HAM10000_images_part_2\n",
    "        │   ├── ISIC_XXXXXXX.jpg\n",
    "        │   └── ...\n",
    "        ├── HAM10000_images_all\n",
    "        │   ├── ISIC_XXXXXXX.jpg\n",
    "        │   └── ...\n",
    "        ├── HAM10000_metadata\n",
    "        ├── HAM10000_segmentations_lesion_tschandl\n",
    "        │   ├── ISIC_XXXXXXX_segmentation.png\n",
    "        │   └── ISIC_0024307_segmentation.png\n",
    "        └── ISIC2018_Task3_Test_Images\n",
    "            ├── ISIC_XXXXXXX.jpg\n",
    "            └── ...\n",
    "    ...\n",
    "```\n",
    "All the data lives in the `data` folder. The `data/source` folder has the raw zip file, `HAM10000.zip`, we downloaded. It will also have the raw content we extract from the `HAM10000.zip` file (there are 6 items). The `data/original` folder will have the relevant files extracted and ready to for use. The original data source split the training images to two folders, called `HAM10000_images_part_1` and `HAM10000_images_part_2`. For convenience, we combine them into one folder called `HAM10000_image_all`. Additionally, there's the `HAM10000_metadata` which has info on the images (such demographics and labels). There's `HAM10000_segmentations_lesion_tschandl` which has segmentations and `ISIC2018_Task3_Test_Images` which are the test images.\n",
    "\n",
    "Any cached or custom versions of the data will live in the `HAM10000/data` folder inside it's own folder. For example, if I reduce the size of every image, I might store that in `HAM10000/data/reduced_images`."
   ]
  },
  {
   "cell_type": "code",
   "execution_count": 33,
   "id": "e748edb1",
   "metadata": {},
   "outputs": [],
   "source": [
    "# libraries\n",
    "import os\n",
    "import zipfile\n",
    "import shutil"
   ]
  },
  {
   "cell_type": "code",
   "execution_count": 10,
   "id": "16b5dd21",
   "metadata": {},
   "outputs": [
    {
     "name": "stdout",
     "output_type": "stream",
     "text": [
      "/Users/nabibahmed/Desktop/Local/Brand/HAM10000/articles\n"
     ]
    }
   ],
   "source": [
    "# Get the current working directory\n",
    "cwd = os.getcwd()\n",
    "\n",
    "# Print the current working directory\n",
    "print(cwd)"
   ]
  },
  {
   "cell_type": "code",
   "execution_count": 11,
   "id": "1de0932b",
   "metadata": {},
   "outputs": [],
   "source": [
    "# setting the base directory based on the cwd - it should be where the HAM10000 project repo is\n",
    "base_dir = '/Users/nabibahmed/Desktop/Local/Brand/HAM10000'"
   ]
  },
  {
   "cell_type": "code",
   "execution_count": 27,
   "id": "4df87470",
   "metadata": {},
   "outputs": [
    {
     "name": "stdout",
     "output_type": "stream",
     "text": [
      "Destination directory exists: /Users/nabibahmed/Desktop/Local/Brand/HAM10000/data/original \n",
      "assumes files have been extracted!\n"
     ]
    }
   ],
   "source": [
    "def extract_zips(base_dir : str = base_dir) -> None:\n",
    "    \"\"\"\n",
    "    Extract the zip files downloaded from datasource\n",
    "    \"\"\"\n",
    "    # source directory for the zip files\n",
    "    source_dir = os.path.join(base_dir, \"data\", \"source\")\n",
    "    \n",
    "    # path to the zip files\n",
    "    zipfiles = dict(\n",
    "        HAM10000_images_part_1 = os.path.join(source_dir, \"HAM10000_images_part_1.zip\"),\n",
    "        HAM10000_images_part_2 = os.path.join(source_dir, \"HAM10000_images_part_2.zip\"),\n",
    "        HAM10000_segmentations_lesion_tschandl = os.path.join(source_dir, \"HAM10000_segmentations_lesion_tschandl.zip\"),\n",
    "        ISIC2018_Task3_Test_Images = os.path.join(source_dir, \"ISIC2018_Task3_Test_Images.zip\"),\n",
    "    )\n",
    "    \n",
    "    # destination folder\n",
    "    destination_dir = os.path.join(base_dir, \"data\", \"original\")\n",
    "    \n",
    "    # check if destination folder exists\n",
    "    if os.path.exists(destination_dir):\n",
    "        print(f\"Destination directory exists: {destination_dir} \\nAssumes files have been extracted!\")\n",
    "        return None\n",
    "    \n",
    "    # unzips and places in destination\n",
    "    for name, path in zipfiles.items():\n",
    "        with zipfile.ZipFile(path) as zf:\n",
    "            zf.extractall(os.path.join(destination_dir, name))\n",
    "    \n",
    "    print(f\"Destination directory created: {destination_dir} \\nFiles have been extracted!\")\n",
    "\n",
    "extract_zips()"
   ]
  },
  {
   "cell_type": "code",
   "execution_count": 38,
   "id": "c8b4309f",
   "metadata": {},
   "outputs": [
    {
     "name": "stdout",
     "output_type": "stream",
     "text": [
      "Created destination directory: /Users/nabibahmed/Desktop/Local/Brand/HAM10000/data/original/HAM10000_images_all\n",
      "The total number of images in the directory is: 10015\n"
     ]
    }
   ],
   "source": [
    "def merge_HAM10000_images(base_dir : str = base_dir) -> None:\n",
    "    \"\"\"\n",
    "    Combines the HAM10000 part 1 and part 2 folders into one\n",
    "    \"\"\"\n",
    "    # original directory where the part 1 and part 2 folders exist\n",
    "    original_dir = os.path.join(base_dir, \"data\", \"original\")\n",
    "    \n",
    "    # part 1 and part 2 folders\n",
    "    part_1 = os.path.join(original_dir, \"HAM10000_images_part_1\")\n",
    "    part_2 = os.path.join(original_dir, \"HAM10000_images_part_2\")\n",
    "    \n",
    "    # destination folder\n",
    "    destination_dir = os.path.join(base_dir, \"data\", \"original\", \"HAM10000_images_all\")\n",
    "    \n",
    "    # check if destination folder exists\n",
    "    if os.path.exists(destination_dir):\n",
    "        print(f\"Destination directory exists: {destination_dir} \\nAssumes parts have been merged!\")\n",
    "        return None\n",
    "\n",
    "    # creates the destination folder\n",
    "    os.mkdir(destination_dir)\n",
    "    \n",
    "    # copying over the files\n",
    "    for p in [part_1, part_2]:\n",
    "        files_to_copy = os.listdir(p)\n",
    "\n",
    "        for file in files_to_copy:\n",
    "            shutil.copy(os.path.join(p, file), os.path.join(destination_dir, file))\n",
    "    \n",
    "    # print confirmation\n",
    "    print(f\"Created destination directory: {destination_dir}\")\n",
    "    print(f\"The total number of images in the directory is: {len(os.listdir(destination_dir))}\")\n",
    "\n",
    "merge_HAM10000_images()   "
   ]
  },
  {
   "cell_type": "markdown",
   "id": "5ae5c142",
   "metadata": {},
   "source": []
  },
  {
   "cell_type": "code",
   "execution_count": null,
   "id": "3ebdb071",
   "metadata": {},
   "outputs": [],
   "source": []
  }
 ],
 "metadata": {
  "kernelspec": {
   "display_name": "Python 3 (ipykernel)",
   "language": "python",
   "name": "python3"
  },
  "language_info": {
   "codemirror_mode": {
    "name": "ipython",
    "version": 3
   },
   "file_extension": ".py",
   "mimetype": "text/x-python",
   "name": "python",
   "nbconvert_exporter": "python",
   "pygments_lexer": "ipython3",
   "version": "3.9.12"
  }
 },
 "nbformat": 4,
 "nbformat_minor": 5
}
